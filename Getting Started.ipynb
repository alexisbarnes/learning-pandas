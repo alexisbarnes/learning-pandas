{
 "cells": [
  {
   "cell_type": "code",
   "execution_count": 1,
   "metadata": {},
   "outputs": [],
   "source": [
    "import pandas as pd\n",
    "import numpy as np\n",
    "import matplotlib.pyplot as plt\n",
    "%matplotlib inline\n",
    "# Importing excel file\n",
    "df = pd.read_excel (r'MLBPayrolls.xls', sheet_name='MLB Payrolls')"
   ]
  },
  {
   "cell_type": "code",
   "execution_count": 2,
   "metadata": {},
   "outputs": [
    {
     "data": {
      "text/plain": [
       "2"
      ]
     },
     "execution_count": 2,
     "metadata": {},
     "output_type": "execute_result"
    }
   ],
   "source": [
    "# Math\n",
    "1 + 1"
   ]
  },
  {
   "cell_type": "code",
   "execution_count": 2,
   "metadata": {},
   "outputs": [
    {
     "data": {
      "text/plain": [
       "'0.24.2'"
      ]
     },
     "execution_count": 2,
     "metadata": {},
     "output_type": "execute_result"
    }
   ],
   "source": [
    "pd.__version__"
   ]
  },
  {
   "cell_type": "code",
   "execution_count": 4,
   "metadata": {},
   "outputs": [
    {
     "name": "stdout",
     "output_type": "stream",
     "text": [
      "                     TEAM  Payroll 2002  Payroll 2003  Payroll 2004  \\\n",
      "0    Arizona Diamondbacks   102819999.0  8.065700e+07  6.978075e+07   \n",
      "1          Atlanta Braves    93470367.0  1.062437e+08  9.018250e+07   \n",
      "2       Baltimore Orioles    60493487.0  7.387750e+07  5.162333e+07   \n",
      "3          Boston Red Sox   108366060.0  9.994650e+07  1.272985e+08   \n",
      "4            Chicago Cubs    75690833.0  7.986833e+07  9.056000e+07   \n",
      "5       Chicago White Sox    57052833.0  5.101000e+07  6.521250e+07   \n",
      "6         Cincinnati Reds    45050390.0  5.935567e+07  4.661525e+07   \n",
      "7       Cleveland Indians    78909449.0  4.858483e+07  3.431930e+07   \n",
      "8        Colorado Rockies    56851043.0  6.717967e+07  6.544517e+07   \n",
      "9          Detroit Tigers    55048000.0  4.916800e+07  4.683200e+07   \n",
      "10        Florida Marlins    41979917.0  4.905000e+07  4.214304e+07   \n",
      "11         Houston Astros    63448417.0  7.104000e+07  7.539700e+07   \n",
      "12     Kansas City Royals    47257000.0  4.051800e+07  4.760900e+07   \n",
      "13     Los Angeles Angels    61721667.0  7.903167e+07  1.005347e+08   \n",
      "14    Los Angeles Dodgers    94850953.0  1.058726e+08  9.290200e+07   \n",
      "15      Milwaukee Brewers    50287833.0  4.062700e+07  2.752850e+07   \n",
      "16        Minnesota Twins    40225000.0  5.550500e+07  5.358500e+07   \n",
      "17          New York Mets    94633593.0  1.171764e+08  9.666097e+07   \n",
      "18       New York Yankees   125928583.0  1.527498e+08  1.841940e+08   \n",
      "19      Oakland Athletics    40004167.0  5.026083e+07  5.942567e+07   \n",
      "20  Philadelphia Phillies    57954999.0  7.078000e+07  9.321917e+07   \n",
      "21     Pittsburgh Pirates    42323599.0  5.481243e+07  3.222793e+07   \n",
      "22       San Diego Padres    41425000.0  4.792800e+07  5.538483e+07   \n",
      "23   San Francisco Giants    78299835.0  8.285217e+07  8.201917e+07   \n",
      "24       Seattle Mariners    80282668.0  8.695917e+07  8.151583e+07   \n",
      "25    St. Louis Cardinals    74660875.0  8.378667e+07  8.322833e+07   \n",
      "26         Tampa Bay Rays    34380000.0  1.963000e+07  2.955667e+07   \n",
      "27          Texas Rangers   105726122.0  1.034917e+08  5.505042e+07   \n",
      "28      Toronto Blue Jays    76864333.0  5.126900e+07  5.001700e+07   \n",
      "29   Washington Nationals           NaN           NaN  4.119750e+07   \n",
      "\n",
      "    Payroll 2005  Payroll 2009  Payroll 2010  Payroll 2011  Payroll 2016  \n",
      "0       62329166      73516666      60718166      53639833      89264063  \n",
      "1       86457302      96726166      84423666      87002692      69005791  \n",
      "2       73914333      67101666      81612500      85304038     145533782  \n",
      "3      123505125     121745999     162447333     161762475     188545761  \n",
      "4       87032933     134809000     146609000     125047329     154575168  \n",
      "5       75178000      96068500     105530000     127789000     112998667  \n",
      "6       61892583      73558500      71761542      75947134      89955059  \n",
      "7       41502500      81579166      61203966      49190566      74311900  \n",
      "8       48155000      75201000      84227000      88148071     112645071  \n",
      "9       69092000     115085145     122864928     105700231     194876481  \n",
      "10      60408834      36834000      57029719      56944000      77314202  \n",
      "11      76779000     102996414      92355500      70694000      94893700  \n",
      "12      36881000      70519333      71405210      36126000     131487125  \n",
      "13      97725322     113709000     104963866     138543166     137251333  \n",
      "14      83039000     100414592      95358016     104188999     221288380  \n",
      "15      39934833      80182502      81108278      85497333      69282737  \n",
      "16      56186000      65299266      97559166     112737000     105333200  \n",
      "17     101305821     149373987     134422942     118847309     133889129  \n",
      "18     208306817     201449189     206333389     202689028     222997792  \n",
      "19      55425762      62310000      51654900      66536500      86806234  \n",
      "20      95522000     113004046     141928379     172976379      83980000  \n",
      "21      38133000      48693000      34943000      45047000     103778833  \n",
      "22      63290833      43734200      37799300      45869140     101424814  \n",
      "23      90199500      83026450      98641333     118198333     172253778  \n",
      "24      87754334      98904166      86510000      86524600     141683339  \n",
      "25      92106833      88528409      93540751     105433572     143053500  \n",
      "26      29679067      63313034      71923471      41053571      57097310  \n",
      "27      55849000      68178798      55250544      92299264     186038723  \n",
      "28      45719500      80538300      62234000      62567800     138701700  \n",
      "29      48581500      60328000      61400000      63856928     141652646  \n"
     ]
    }
   ],
   "source": [
    "# Printing spreadsheet\n",
    "print (df)"
   ]
  },
  {
   "cell_type": "code",
   "execution_count": 5,
   "metadata": {},
   "outputs": [
    {
     "data": {
      "text/html": [
       "<div>\n",
       "<style scoped>\n",
       "    .dataframe tbody tr th:only-of-type {\n",
       "        vertical-align: middle;\n",
       "    }\n",
       "\n",
       "    .dataframe tbody tr th {\n",
       "        vertical-align: top;\n",
       "    }\n",
       "\n",
       "    .dataframe thead th {\n",
       "        text-align: right;\n",
       "    }\n",
       "</style>\n",
       "<table border=\"1\" class=\"dataframe\">\n",
       "  <thead>\n",
       "    <tr style=\"text-align: right;\">\n",
       "      <th></th>\n",
       "      <th>TEAM</th>\n",
       "      <th>Payroll 2002</th>\n",
       "      <th>Payroll 2003</th>\n",
       "      <th>Payroll 2004</th>\n",
       "      <th>Payroll 2005</th>\n",
       "      <th>Payroll 2009</th>\n",
       "      <th>Payroll 2010</th>\n",
       "      <th>Payroll 2011</th>\n",
       "      <th>Payroll 2016</th>\n",
       "    </tr>\n",
       "  </thead>\n",
       "  <tbody>\n",
       "    <tr>\n",
       "      <th>0</th>\n",
       "      <td>Arizona Diamondbacks</td>\n",
       "      <td>102819999.0</td>\n",
       "      <td>8.065700e+07</td>\n",
       "      <td>6.978075e+07</td>\n",
       "      <td>62329166</td>\n",
       "      <td>73516666</td>\n",
       "      <td>60718166</td>\n",
       "      <td>53639833</td>\n",
       "      <td>89264063</td>\n",
       "    </tr>\n",
       "    <tr>\n",
       "      <th>1</th>\n",
       "      <td>Atlanta Braves</td>\n",
       "      <td>93470367.0</td>\n",
       "      <td>1.062437e+08</td>\n",
       "      <td>9.018250e+07</td>\n",
       "      <td>86457302</td>\n",
       "      <td>96726166</td>\n",
       "      <td>84423666</td>\n",
       "      <td>87002692</td>\n",
       "      <td>69005791</td>\n",
       "    </tr>\n",
       "    <tr>\n",
       "      <th>2</th>\n",
       "      <td>Baltimore Orioles</td>\n",
       "      <td>60493487.0</td>\n",
       "      <td>7.387750e+07</td>\n",
       "      <td>5.162333e+07</td>\n",
       "      <td>73914333</td>\n",
       "      <td>67101666</td>\n",
       "      <td>81612500</td>\n",
       "      <td>85304038</td>\n",
       "      <td>145533782</td>\n",
       "    </tr>\n",
       "    <tr>\n",
       "      <th>3</th>\n",
       "      <td>Boston Red Sox</td>\n",
       "      <td>108366060.0</td>\n",
       "      <td>9.994650e+07</td>\n",
       "      <td>1.272985e+08</td>\n",
       "      <td>123505125</td>\n",
       "      <td>121745999</td>\n",
       "      <td>162447333</td>\n",
       "      <td>161762475</td>\n",
       "      <td>188545761</td>\n",
       "    </tr>\n",
       "    <tr>\n",
       "      <th>4</th>\n",
       "      <td>Chicago Cubs</td>\n",
       "      <td>75690833.0</td>\n",
       "      <td>7.986833e+07</td>\n",
       "      <td>9.056000e+07</td>\n",
       "      <td>87032933</td>\n",
       "      <td>134809000</td>\n",
       "      <td>146609000</td>\n",
       "      <td>125047329</td>\n",
       "      <td>154575168</td>\n",
       "    </tr>\n",
       "  </tbody>\n",
       "</table>\n",
       "</div>"
      ],
      "text/plain": [
       "                   TEAM  Payroll 2002  Payroll 2003  Payroll 2004  \\\n",
       "0  Arizona Diamondbacks   102819999.0  8.065700e+07  6.978075e+07   \n",
       "1        Atlanta Braves    93470367.0  1.062437e+08  9.018250e+07   \n",
       "2     Baltimore Orioles    60493487.0  7.387750e+07  5.162333e+07   \n",
       "3        Boston Red Sox   108366060.0  9.994650e+07  1.272985e+08   \n",
       "4          Chicago Cubs    75690833.0  7.986833e+07  9.056000e+07   \n",
       "\n",
       "   Payroll 2005  Payroll 2009  Payroll 2010  Payroll 2011  Payroll 2016  \n",
       "0      62329166      73516666      60718166      53639833      89264063  \n",
       "1      86457302      96726166      84423666      87002692      69005791  \n",
       "2      73914333      67101666      81612500      85304038     145533782  \n",
       "3     123505125     121745999     162447333     161762475     188545761  \n",
       "4      87032933     134809000     146609000     125047329     154575168  "
      ]
     },
     "execution_count": 5,
     "metadata": {},
     "output_type": "execute_result"
    }
   ],
   "source": [
    "# Synopsis of data\n",
    "df.head()"
   ]
  },
  {
   "cell_type": "code",
   "execution_count": 6,
   "metadata": {},
   "outputs": [
    {
     "data": {
      "text/html": [
       "<div>\n",
       "<style scoped>\n",
       "    .dataframe tbody tr th:only-of-type {\n",
       "        vertical-align: middle;\n",
       "    }\n",
       "\n",
       "    .dataframe tbody tr th {\n",
       "        vertical-align: top;\n",
       "    }\n",
       "\n",
       "    .dataframe thead th {\n",
       "        text-align: right;\n",
       "    }\n",
       "</style>\n",
       "<table border=\"1\" class=\"dataframe\">\n",
       "  <thead>\n",
       "    <tr style=\"text-align: right;\">\n",
       "      <th></th>\n",
       "      <th>Payroll 2002</th>\n",
       "      <th>Payroll 2003</th>\n",
       "      <th>Payroll 2004</th>\n",
       "      <th>Payroll 2005</th>\n",
       "      <th>Payroll 2009</th>\n",
       "      <th>Payroll 2010</th>\n",
       "      <th>Payroll 2011</th>\n",
       "      <th>Payroll 2016</th>\n",
       "    </tr>\n",
       "  </thead>\n",
       "  <tbody>\n",
       "    <tr>\n",
       "      <th>count</th>\n",
       "      <td>2.900000e+01</td>\n",
       "      <td>2.900000e+01</td>\n",
       "      <td>3.000000e+01</td>\n",
       "      <td>3.000000e+01</td>\n",
       "      <td>3.000000e+01</td>\n",
       "      <td>3.000000e+01</td>\n",
       "      <td>3.000000e+01</td>\n",
       "      <td>3.000000e+01</td>\n",
       "    </tr>\n",
       "    <tr>\n",
       "      <th>mean</th>\n",
       "      <td>6.848300e+07</td>\n",
       "      <td>7.169764e+07</td>\n",
       "      <td>6.904220e+07</td>\n",
       "      <td>7.306290e+07</td>\n",
       "      <td>8.889095e+07</td>\n",
       "      <td>9.059200e+07</td>\n",
       "      <td>9.287204e+07</td>\n",
       "      <td>1.260640e+08</td>\n",
       "    </tr>\n",
       "    <tr>\n",
       "      <th>std</th>\n",
       "      <td>2.455258e+07</td>\n",
       "      <td>2.822834e+07</td>\n",
       "      <td>3.282287e+07</td>\n",
       "      <td>3.423390e+07</td>\n",
       "      <td>3.382296e+07</td>\n",
       "      <td>3.823599e+07</td>\n",
       "      <td>4.081279e+07</td>\n",
       "      <td>4.559706e+07</td>\n",
       "    </tr>\n",
       "    <tr>\n",
       "      <th>min</th>\n",
       "      <td>3.438000e+07</td>\n",
       "      <td>1.963000e+07</td>\n",
       "      <td>2.752850e+07</td>\n",
       "      <td>2.967907e+07</td>\n",
       "      <td>3.683400e+07</td>\n",
       "      <td>3.494300e+07</td>\n",
       "      <td>3.612600e+07</td>\n",
       "      <td>5.709731e+07</td>\n",
       "    </tr>\n",
       "    <tr>\n",
       "      <th>25%</th>\n",
       "      <td>4.725700e+07</td>\n",
       "      <td>5.026083e+07</td>\n",
       "      <td>4.702625e+07</td>\n",
       "      <td>5.029257e+07</td>\n",
       "      <td>6.737095e+07</td>\n",
       "      <td>6.160850e+07</td>\n",
       "      <td>6.289008e+07</td>\n",
       "      <td>8.943681e+07</td>\n",
       "    </tr>\n",
       "    <tr>\n",
       "      <th>50%</th>\n",
       "      <td>6.172167e+07</td>\n",
       "      <td>7.078000e+07</td>\n",
       "      <td>6.231908e+07</td>\n",
       "      <td>6.619142e+07</td>\n",
       "      <td>8.105873e+07</td>\n",
       "      <td>8.432533e+07</td>\n",
       "      <td>8.676365e+07</td>\n",
       "      <td>1.222429e+08</td>\n",
       "    </tr>\n",
       "    <tr>\n",
       "      <th>75%</th>\n",
       "      <td>8.028267e+07</td>\n",
       "      <td>8.378667e+07</td>\n",
       "      <td>8.844396e+07</td>\n",
       "      <td>8.757398e+07</td>\n",
       "      <td>1.023510e+08</td>\n",
       "      <td>1.033832e+08</td>\n",
       "      <td>1.168330e+08</td>\n",
       "      <td>1.449137e+08</td>\n",
       "    </tr>\n",
       "    <tr>\n",
       "      <th>max</th>\n",
       "      <td>1.259286e+08</td>\n",
       "      <td>1.527498e+08</td>\n",
       "      <td>1.841940e+08</td>\n",
       "      <td>2.083068e+08</td>\n",
       "      <td>2.014492e+08</td>\n",
       "      <td>2.063334e+08</td>\n",
       "      <td>2.026890e+08</td>\n",
       "      <td>2.229978e+08</td>\n",
       "    </tr>\n",
       "  </tbody>\n",
       "</table>\n",
       "</div>"
      ],
      "text/plain": [
       "       Payroll 2002  Payroll 2003  Payroll 2004  Payroll 2005  Payroll 2009  \\\n",
       "count  2.900000e+01  2.900000e+01  3.000000e+01  3.000000e+01  3.000000e+01   \n",
       "mean   6.848300e+07  7.169764e+07  6.904220e+07  7.306290e+07  8.889095e+07   \n",
       "std    2.455258e+07  2.822834e+07  3.282287e+07  3.423390e+07  3.382296e+07   \n",
       "min    3.438000e+07  1.963000e+07  2.752850e+07  2.967907e+07  3.683400e+07   \n",
       "25%    4.725700e+07  5.026083e+07  4.702625e+07  5.029257e+07  6.737095e+07   \n",
       "50%    6.172167e+07  7.078000e+07  6.231908e+07  6.619142e+07  8.105873e+07   \n",
       "75%    8.028267e+07  8.378667e+07  8.844396e+07  8.757398e+07  1.023510e+08   \n",
       "max    1.259286e+08  1.527498e+08  1.841940e+08  2.083068e+08  2.014492e+08   \n",
       "\n",
       "       Payroll 2010  Payroll 2011  Payroll 2016  \n",
       "count  3.000000e+01  3.000000e+01  3.000000e+01  \n",
       "mean   9.059200e+07  9.287204e+07  1.260640e+08  \n",
       "std    3.823599e+07  4.081279e+07  4.559706e+07  \n",
       "min    3.494300e+07  3.612600e+07  5.709731e+07  \n",
       "25%    6.160850e+07  6.289008e+07  8.943681e+07  \n",
       "50%    8.432533e+07  8.676365e+07  1.222429e+08  \n",
       "75%    1.033832e+08  1.168330e+08  1.449137e+08  \n",
       "max    2.063334e+08  2.026890e+08  2.229978e+08  "
      ]
     },
     "execution_count": 6,
     "metadata": {},
     "output_type": "execute_result"
    }
   ],
   "source": [
    "# Like summary() in R\n",
    "df.describe()"
   ]
  },
  {
   "cell_type": "code",
   "execution_count": 7,
   "metadata": {},
   "outputs": [
    {
     "ename": "TypeError",
     "evalue": "'Index' object is not callable",
     "output_type": "error",
     "traceback": [
      "\u001b[0;31m---------------------------------------------------------------------------\u001b[0m",
      "\u001b[0;31mTypeError\u001b[0m                                 Traceback (most recent call last)",
      "\u001b[0;32m<ipython-input-7-ea942bf769f0>\u001b[0m in \u001b[0;36m<module>\u001b[0;34m\u001b[0m\n\u001b[0;32m----> 1\u001b[0;31m \u001b[0mdf\u001b[0m\u001b[0;34m.\u001b[0m\u001b[0mcolumns\u001b[0m\u001b[0;34m(\u001b[0m\u001b[0;34m)\u001b[0m\u001b[0;34m\u001b[0m\u001b[0;34m\u001b[0m\u001b[0m\n\u001b[0m",
      "\u001b[0;31mTypeError\u001b[0m: 'Index' object is not callable"
     ]
    }
   ],
   "source": [
    "df.columns()"
   ]
  },
  {
   "cell_type": "code",
   "execution_count": 8,
   "metadata": {},
   "outputs": [
    {
     "data": {
      "text/plain": [
       "['TEAM',\n",
       " 'Payroll 2002',\n",
       " 'Payroll 2003',\n",
       " 'Payroll 2004',\n",
       " 'Payroll 2005',\n",
       " 'Payroll 2009',\n",
       " 'Payroll 2010',\n",
       " 'Payroll 2011',\n",
       " 'Payroll 2016']"
      ]
     },
     "execution_count": 8,
     "metadata": {},
     "output_type": "execute_result"
    }
   ],
   "source": [
    "# List column names\n",
    "list(df.columns)"
   ]
  },
  {
   "cell_type": "code",
   "execution_count": 9,
   "metadata": {},
   "outputs": [
    {
     "data": {
      "text/plain": [
       "2071265943.33"
      ]
     },
     "execution_count": 9,
     "metadata": {},
     "output_type": "execute_result"
    }
   ],
   "source": [
    "# Use the sum() function to calculate the total payroll of all teams in 2004\n",
    "df['Payroll 2004'].sum()"
   ]
  },
  {
   "cell_type": "code",
   "execution_count": 3,
   "metadata": {},
   "outputs": [
    {
     "data": {
      "text/plain": [
       "69042198.111"
      ]
     },
     "execution_count": 3,
     "metadata": {},
     "output_type": "execute_result"
    }
   ],
   "source": [
    "# Use the mean() function to calculate the average payroll of teams in 2004\n",
    "df['Payroll 2004'].mean()"
   ]
  },
  {
   "cell_type": "code",
   "execution_count": 4,
   "metadata": {},
   "outputs": [
    {
     "data": {
      "text/plain": [
       "1986007022.0"
      ]
     },
     "execution_count": 4,
     "metadata": {},
     "output_type": "execute_result"
    }
   ],
   "source": [
    "# Now use the sum() function to calculate the payroll of all teams in 2002.\n",
    "df['Payroll 2002'].sum()"
   ]
  },
  {
   "cell_type": "code",
   "execution_count": 13,
   "metadata": {},
   "outputs": [
    {
     "data": {
      "text/plain": [
       "-13555936.0"
      ]
     },
     "execution_count": 13,
     "metadata": {},
     "output_type": "execute_result"
    }
   ],
   "source": [
    "# How much more (or less) did the Arizona Diamondbacks pay its players in 2016 than it paid in 2002.\n",
    "df.iloc[0,8]-df.iloc[0,1]"
   ]
  },
  {
   "cell_type": "code",
   "execution_count": 12,
   "metadata": {},
   "outputs": [
    {
     "data": {
      "text/plain": [
       "66.41376008758267"
      ]
     },
     "execution_count": 12,
     "metadata": {},
     "output_type": "execute_result"
    }
   ],
   "source": [
    "# What was the percentage increase (or decrease) in the Arizona Diamond payroll between 2011 and 2016?\n",
    "((df.iloc[0, 8]-df.iloc[0,7])/df.iloc[0,7])*100"
   ]
  },
  {
   "cell_type": "code",
   "execution_count": 14,
   "metadata": {},
   "outputs": [
    {
     "data": {
      "text/plain": [
       "TEAM            Arizona DiamondbacksAtlanta BravesBaltimore Or...\n",
       "Payroll 2002                                          1.98601e+09\n",
       "Payroll 2003                                          2.07923e+09\n",
       "Payroll 2004                                          2.07127e+09\n",
       "Payroll 2005                                           2191886898\n",
       "Payroll 2009                                           2666728494\n",
       "Payroll 2010                                           2717759865\n",
       "Payroll 2011                                           2786161291\n",
       "Payroll 2016                                           3781920218\n",
       "dtype: object"
      ]
     },
     "execution_count": 14,
     "metadata": {},
     "output_type": "execute_result"
    }
   ],
   "source": [
    "# Use the colSums() function to get the toal MLB payrolls for all years.\n",
    "df.sum()"
   ]
  },
  {
   "cell_type": "code",
   "execution_count": 7,
   "metadata": {},
   "outputs": [
    {
     "ename": "TypeError",
     "evalue": "'DataFrame' object is not callable",
     "output_type": "error",
     "traceback": [
      "\u001b[0;31m---------------------------------------------------------------------------\u001b[0m",
      "\u001b[0;31mTypeError\u001b[0m                                 Traceback (most recent call last)",
      "\u001b[0;32m<ipython-input-7-2fdf8efc032c>\u001b[0m in \u001b[0;36m<module>\u001b[0;34m\u001b[0m\n\u001b[1;32m      1\u001b[0m \u001b[0;31m# Sort teams in reverse alphabetical order.\u001b[0m\u001b[0;34m\u001b[0m\u001b[0;34m\u001b[0m\u001b[0;34m\u001b[0m\u001b[0m\n\u001b[0;32m----> 2\u001b[0;31m \u001b[0mdf\u001b[0m\u001b[0;34m(\u001b[0m\u001b[0;34m'TEAM'\u001b[0m\u001b[0;34m)\u001b[0m\u001b[0;34m.\u001b[0m\u001b[0msort_values\u001b[0m\u001b[0;34m(\u001b[0m\u001b[0;34m'TEAM'\u001b[0m\u001b[0;34m,\u001b[0m \u001b[0mascending\u001b[0m\u001b[0;34m=\u001b[0m\u001b[0;32mFalse\u001b[0m\u001b[0;34m)\u001b[0m\u001b[0;34m\u001b[0m\u001b[0;34m\u001b[0m\u001b[0m\n\u001b[0m",
      "\u001b[0;31mTypeError\u001b[0m: 'DataFrame' object is not callable"
     ]
    }
   ],
   "source": [
    "# Sort teams in reverse alphabetical order.\n",
    "df('TEAM').sort_values('TEAM', ascending=False)"
   ]
  },
  {
   "cell_type": "code",
   "execution_count": null,
   "metadata": {},
   "outputs": [],
   "source": []
  }
 ],
 "metadata": {
  "kernelspec": {
   "display_name": "Python 3",
   "language": "python",
   "name": "python3"
  },
  "language_info": {
   "codemirror_mode": {
    "name": "ipython",
    "version": 3
   },
   "file_extension": ".py",
   "mimetype": "text/x-python",
   "name": "python",
   "nbconvert_exporter": "python",
   "pygments_lexer": "ipython3",
   "version": "3.7.3"
  }
 },
 "nbformat": 4,
 "nbformat_minor": 2
}
